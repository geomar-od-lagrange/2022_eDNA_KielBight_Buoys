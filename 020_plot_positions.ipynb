{
 "cells": [
  {
   "cell_type": "markdown",
   "id": "292a125a-9b17-4fca-98d8-f3a308f83a33",
   "metadata": {},
   "source": [
    "# Plot positions\n",
    "\n",
    "[direct link](#Display)"
   ]
  },
  {
   "cell_type": "code",
   "execution_count": null,
   "id": "157be997-2541-4b9c-81cc-841a9bf56c2f",
   "metadata": {
    "tags": [
     "parameters"
    ]
   },
   "outputs": [],
   "source": [
    "# parameters\n",
    "\n",
    "combined_data_file = \"combined_positions.csv\"\n",
    "start_date = \"2023-04-01T00:00:00\""
   ]
  },
  {
   "cell_type": "code",
   "execution_count": null,
   "id": "cb3f0b1d-dd15-4264-a7a0-5f5a79265164",
   "metadata": {},
   "outputs": [],
   "source": [
    "import pandas as pd\n",
    "import hvplot.pandas\n",
    "from bokeh.models import HoverTool\n",
    "import geoviews as gv"
   ]
  },
  {
   "cell_type": "markdown",
   "id": "05f2479c-8385-4f89-86b6-c110a062fcf2",
   "metadata": {},
   "source": [
    "## Read data"
   ]
  },
  {
   "cell_type": "code",
   "execution_count": null,
   "id": "331cbbf1-a6ec-47de-9b55-d366a687732a",
   "metadata": {},
   "outputs": [],
   "source": [
    "df = pd.read_csv(combined_data_file, parse_dates=[\"Timestamp\", ])\n",
    "df = df.where(df.Timestamp > start_date).dropna()"
   ]
  },
  {
   "cell_type": "markdown",
   "id": "7645cc0a-4f5b-4bc7-bbae-ee4cd7b71ede",
   "metadata": {},
   "source": [
    "## Plot"
   ]
  },
  {
   "cell_type": "code",
   "execution_count": null,
   "id": "a1b4d653-7cc1-4617-980d-3d4a15f07ecf",
   "metadata": {},
   "outputs": [],
   "source": [
    "hover = HoverTool(tooltips=[\n",
    "    (\"Platform\", \"@Platform\"),\n",
    "    (\"Type\", \"@Type\"),\n",
    "    (\"Timestamp\", \"@Timestamp\"),\n",
    "    (\"Longitude\", \"@Longitude_\"),  # display potentially redacted positions\n",
    "    (\"Latitude\", \"@Latitude_\"),  # display potentially redacted positions\n",
    "])"
   ]
  },
  {
   "cell_type": "code",
   "execution_count": null,
   "id": "272cc4ec-92c8-440a-9fc3-49872c5c6187",
   "metadata": {},
   "outputs": [],
   "source": [
    "df[\"Timestamp\"] = df[\"Timestamp\"].astype(str)  # necessary for proper display ?"
   ]
  },
  {
   "cell_type": "code",
   "execution_count": null,
   "id": "46d63640-9842-49f8-9a1b-92be8866f4ae",
   "metadata": {},
   "outputs": [],
   "source": [
    "plot = df.hvplot.points(\n",
    "    x=\"Longitude\", y=\"Latitude\", color=\"Platform\", size=50,\n",
    "    hover_cols=[\"Platform\", \"Type\", \"Longitude_\", \"Latitude_\", \"Timestamp\", ], tools=[hover, ],\n",
    "    geo=True, tiles=\"OSM\",\n",
    "    xlim=(9.6, 11.4), ylim=(54.2, 55),\n",
    "    frame_width=500,\n",
    ")"
   ]
  },
  {
   "cell_type": "markdown",
   "id": "1f1c17a7-f187-4355-8ab8-f2ca11fd87ab",
   "metadata": {},
   "source": [
    "## Display"
   ]
  },
  {
   "cell_type": "code",
   "execution_count": null,
   "id": "c8ad2080-2df6-4323-9fec-4050809f3b1d",
   "metadata": {},
   "outputs": [],
   "source": [
    "display(plot)"
   ]
  }
 ],
 "metadata": {
  "kernelspec": {
   "display_name": "Python 3 (ipykernel)",
   "language": "python",
   "name": "python3"
  },
  "language_info": {
   "codemirror_mode": {
    "name": "ipython",
    "version": 3
   },
   "file_extension": ".py",
   "mimetype": "text/x-python",
   "name": "python",
   "nbconvert_exporter": "python",
   "pygments_lexer": "ipython3",
   "version": "3.10.8"
  }
 },
 "nbformat": 4,
 "nbformat_minor": 5
}
