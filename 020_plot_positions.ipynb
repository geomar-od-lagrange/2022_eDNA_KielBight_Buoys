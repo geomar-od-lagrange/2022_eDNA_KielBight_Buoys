{
 "cells": [
  {
   "cell_type": "markdown",
   "id": "292a125a-9b17-4fca-98d8-f3a308f83a33",
   "metadata": {},
   "source": [
    "# Plot positions\n",
    "\n",
    "[direct link](#Display)"
   ]
  },
  {
   "cell_type": "code",
   "execution_count": null,
   "id": "157be997-2541-4b9c-81cc-841a9bf56c2f",
   "metadata": {
    "tags": [
     "parameters"
    ]
   },
   "outputs": [],
   "source": [
    "# parameters\n",
    "\n",
    "combined_data_file = \"combined_positions.csv\"\n",
    "start_date = \"2023-04-24T05:30:00\"  # UTC"
   ]
  },
  {
   "cell_type": "code",
   "execution_count": null,
   "id": "836f6b3b-13a8-4552-9ce5-d46dccdf921a",
   "metadata": {},
   "outputs": [],
   "source": [
    "import pandas as pd\n",
    "import hvplot.pandas\n",
    "from bokeh.models import HoverTool\n",
    "import geoviews as gv\n",
    "\n",
    "from functools import reduce"
   ]
  },
  {
   "cell_type": "markdown",
   "id": "05f2479c-8385-4f89-86b6-c110a062fcf2",
   "metadata": {},
   "source": [
    "## Read data"
   ]
  },
  {
   "cell_type": "code",
   "execution_count": null,
   "id": "331cbbf1-a6ec-47de-9b55-d366a687732a",
   "metadata": {},
   "outputs": [],
   "source": [
    "df = pd.read_csv(combined_data_file, parse_dates=[\"Timestamp\", ])\n",
    "df = df.where(df.Timestamp > start_date).dropna()"
   ]
  },
  {
   "cell_type": "markdown",
   "id": "7645cc0a-4f5b-4bc7-bbae-ee4cd7b71ede",
   "metadata": {},
   "source": [
    "## Plot"
   ]
  },
  {
   "cell_type": "code",
   "execution_count": null,
   "id": "a1b4d653-7cc1-4617-980d-3d4a15f07ecf",
   "metadata": {},
   "outputs": [],
   "source": [
    "hover = HoverTool(tooltips=[\n",
    "    (\"Platform\", \"@Platform\"),\n",
    "    (\"Type\", \"@Type\"),\n",
    "    (\"Timestamp\", \"@Timestamp\"),\n",
    "    (\"Longitude\", \"@Longitude_\"),  # display potentially redacted positions\n",
    "    (\"Latitude\", \"@Latitude_\"),  # display potentially redacted positions\n",
    "])"
   ]
  },
  {
   "cell_type": "code",
   "execution_count": null,
   "id": "272cc4ec-92c8-440a-9fc3-49872c5c6187",
   "metadata": {},
   "outputs": [],
   "source": [
    "df[\"Timestamp\"] = df[\"Timestamp\"].astype(str)  # necessary for proper display ?"
   ]
  },
  {
   "cell_type": "code",
   "execution_count": null,
   "id": "5bff61c2-d44b-430a-9140-1a05d917f4b1",
   "metadata": {},
   "outputs": [],
   "source": [
    "plots = [\n",
    "    df.where(df.Platform == pf).dropna().hvplot.paths(\n",
    "        x=\"Longitude\", y=\"Latitude\", line_width=2,\n",
    "        label=pf,\n",
    "        hover_cols=[\"Platform\", \"Type\", \"Longitude_\", \"Latitude_\", \"Timestamp\", ], tools=[hover, ],\n",
    "        geo=True,\n",
    "        xlim=(9.6, 11.4),\n",
    "        ylim=(54.2, 55),\n",
    "    ) for pf in df.Platform.unique()\n",
    "]"
   ]
  },
  {
   "cell_type": "code",
   "execution_count": null,
   "id": "dff21ace-5731-4294-bb3c-70d76bfa91f5",
   "metadata": {},
   "outputs": [],
   "source": [
    "plot = reduce(lambda a, b: a * b, plots, gv.tile_sources.OSM).opts(frame_width=500)"
   ]
  },
  {
   "cell_type": "markdown",
   "id": "1f1c17a7-f187-4355-8ab8-f2ca11fd87ab",
   "metadata": {},
   "source": [
    "## Display"
   ]
  },
  {
   "cell_type": "code",
   "execution_count": null,
   "id": "c8ad2080-2df6-4323-9fec-4050809f3b1d",
   "metadata": {},
   "outputs": [],
   "source": [
    "display(plot)"
   ]
  },
  {
   "cell_type": "code",
   "execution_count": null,
   "id": "5b566e76-b12c-4526-9cc8-507db8f7500b",
   "metadata": {},
   "outputs": [],
   "source": [
    "!echo \"calculations done at $(date -Is -u)\""
   ]
  }
 ],
 "metadata": {
  "kernelspec": {
   "display_name": "Python 3 (ipykernel)",
   "language": "python",
   "name": "python3"
  },
  "language_info": {
   "codemirror_mode": {
    "name": "ipython",
    "version": 3
   },
   "file_extension": ".py",
   "mimetype": "text/x-python",
   "name": "python",
   "nbconvert_exporter": "python",
   "pygments_lexer": "ipython3",
   "version": "3.10.8"
  }
 },
 "nbformat": 4,
 "nbformat_minor": 5
}
