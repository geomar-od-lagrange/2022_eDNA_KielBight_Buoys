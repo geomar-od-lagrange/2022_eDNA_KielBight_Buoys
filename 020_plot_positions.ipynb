{
 "cells": [
  {
   "cell_type": "markdown",
   "id": "292a125a-9b17-4fca-98d8-f3a308f83a33",
   "metadata": {},
   "source": [
    "# Plot positions\n",
    "\n",
    "[direct link](#Display)"
   ]
  },
  {
   "cell_type": "code",
   "execution_count": null,
   "id": "a8af361c-e84d-4b8d-aa96-ca0ec3664202",
   "metadata": {},
   "outputs": [],
   "source": [
    "import pandas as pd"
   ]
  },
  {
   "cell_type": "code",
   "execution_count": null,
   "id": "50918dd5-6fc5-4614-9253-1cd358fc9036",
   "metadata": {},
   "outputs": [],
   "source": [
    "# parameters\n",
    "\n",
    "combined_data_file = \"combined_positions.csv\"\n",
    "\n",
    "platform_deploy_times = {\n",
    "    \"Littorina\": \"2023-04-24T05:30:00\",\n",
    "    \"D298\": \"2023-04-24T08:50:00\",\n",
    "    \"D299\": \"2023-04-24T08:50:00\",\n",
    "    \"D300\": \"2023-04-24T08:50:00\",\n",
    "    \"D301\": \"2023-04-24T09:35:00\",\n",
    "    \"D302\": \"2023-04-24T09:35:00\",\n",
    "    \"D303\": \"2023-04-24T09:35:00\",\n",
    "}"
   ]
  },
  {
   "cell_type": "code",
   "execution_count": null,
   "id": "836f6b3b-13a8-4552-9ce5-d46dccdf921a",
   "metadata": {},
   "outputs": [],
   "source": [
    "import pandas as pd\n",
    "import hvplot.pandas\n",
    "from bokeh.models import HoverTool, SaveTool\n",
    "import geoviews as gv\n",
    "\n",
    "from functools import reduce"
   ]
  },
  {
   "cell_type": "markdown",
   "id": "05f2479c-8385-4f89-86b6-c110a062fcf2",
   "metadata": {},
   "source": [
    "## Read data"
   ]
  },
  {
   "cell_type": "code",
   "execution_count": null,
   "id": "331cbbf1-a6ec-47de-9b55-d366a687732a",
   "metadata": {},
   "outputs": [],
   "source": [
    "df = pd.read_csv(combined_data_file, parse_dates=[\"Timestamp\", ])"
   ]
  },
  {
   "cell_type": "markdown",
   "id": "7645cc0a-4f5b-4bc7-bbae-ee4cd7b71ede",
   "metadata": {},
   "source": [
    "## Plot"
   ]
  },
  {
   "cell_type": "code",
   "execution_count": null,
   "id": "a1b4d653-7cc1-4617-980d-3d4a15f07ecf",
   "metadata": {},
   "outputs": [],
   "source": [
    "hover = HoverTool(tooltips=[\n",
    "    (\"Platform\", \"@Platform\"),\n",
    "    (\"Type\", \"@Type\"),\n",
    "    (\"Timestamp\", \"@Timestamp\"),\n",
    "    (\"Longitude\", \"@Longitude_\"),  # display potentially redacted positions\n",
    "    (\"Latitude\", \"@Latitude_\"),  # display potentially redacted positions\n",
    "])"
   ]
  },
  {
   "cell_type": "code",
   "execution_count": null,
   "id": "272cc4ec-92c8-440a-9fc3-49872c5c6187",
   "metadata": {},
   "outputs": [],
   "source": [
    "# df[\"Timestamp\"] = df[\"Timestamp\"].astype(str)  # necessary for proper display ?"
   ]
  },
  {
   "cell_type": "code",
   "execution_count": null,
   "id": "9ed3a225-b1b4-46b4-8094-3a9e0183aab8",
   "metadata": {},
   "outputs": [],
   "source": [
    "savetool = SaveTool()"
   ]
  },
  {
   "cell_type": "code",
   "execution_count": null,
   "id": "cf9a45df-6045-4a17-bd93-20e323a1f442",
   "metadata": {},
   "outputs": [],
   "source": [
    "plots = []\n",
    "\n",
    "for npf, pf in enumerate(df.Platform.unique()):\n",
    "    if npf == 0:\n",
    "        _kwargs = dict(\n",
    "            tiles=\"OSM\",  \n",
    "            xlim=(9.6, 11.4),\n",
    "            ylim=(54.2, 55),\n",
    "        )\n",
    "    else:\n",
    "        _kwargs = {}\n",
    "    _df = df.where(\n",
    "        (df.Platform == pf)\n",
    "        & (df.Timestamp > platform_deploy_times[pf])\n",
    "    ).dropna().sort_values(\"Timestamp\")\n",
    "    _df[\"Timestamp\"] = _df[\"Timestamp\"].astype(str)  # needed for proper display\n",
    "    plots.append(\n",
    "        (\n",
    "            _df.hvplot.paths(\n",
    "                x=\"Longitude\", y=\"Latitude\", line_width=2,\n",
    "                label=pf,\n",
    "                geo=True,\n",
    "                **_kwargs\n",
    "            )\n",
    "            * _df.hvplot.points(\n",
    "                x=\"Longitude\", y=\"Latitude\", size=15, marker=\"x\",\n",
    "                label=pf,\n",
    "                hover_cols=[\"Platform\", \"Type\", \"Longitude_\", \"Latitude_\", \"Timestamp\", ], tools=[hover, ],\n",
    "                geo=True,\n",
    "            )\n",
    "        )\n",
    "    )"
   ]
  },
  {
   "cell_type": "code",
   "execution_count": null,
   "id": "dff21ace-5731-4294-bb3c-70d76bfa91f5",
   "metadata": {},
   "outputs": [],
   "source": [
    "plot = reduce(lambda a, b: a * b, plots[1:], plots[0]).opts(frame_width=500)"
   ]
  },
  {
   "cell_type": "markdown",
   "id": "1f1c17a7-f187-4355-8ab8-f2ca11fd87ab",
   "metadata": {},
   "source": [
    "## Display"
   ]
  },
  {
   "cell_type": "code",
   "execution_count": null,
   "id": "709c289d-7698-4f5b-b100-b76d9ab2a6d1",
   "metadata": {},
   "outputs": [],
   "source": [
    "display(plot);"
   ]
  },
  {
   "cell_type": "code",
   "execution_count": null,
   "id": "94addcd6-721f-41d4-8f62-f43d8c7ac06c",
   "metadata": {},
   "outputs": [],
   "source": [
    "!date -Is -u"
   ]
  }
 ],
 "metadata": {
  "kernelspec": {
   "display_name": "Python 3 (ipykernel)",
   "language": "python",
   "name": "python3"
  },
  "language_info": {
   "codemirror_mode": {
    "name": "ipython",
    "version": 3
   },
   "file_extension": ".py",
   "mimetype": "text/x-python",
   "name": "python",
   "nbconvert_exporter": "python",
   "pygments_lexer": "ipython3",
   "version": "3.10.8"
  }
 },
 "nbformat": 4,
 "nbformat_minor": 5
}
