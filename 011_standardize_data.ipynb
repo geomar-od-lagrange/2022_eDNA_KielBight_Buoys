{
 "cells": [
  {
   "cell_type": "code",
   "execution_count": null,
   "id": "ad3205fe-d589-478d-94a6-4d11bbaf3da5",
   "metadata": {
    "tags": [
     "parameters"
    ]
   },
   "outputs": [],
   "source": [
    "# parameters\n",
    "\n",
    "lit_data_file = \"lit_positions.csv\"\n",
    "buoy_data_file = \"buoy_positions.csv\"\n",
    "combined_data_file = \"combined_positions.csv\"\n",
    "start_date = \"2023-01-01T00:00:00\""
   ]
  },
  {
   "cell_type": "code",
   "execution_count": null,
   "id": "82c9a499-1c05-4380-80ec-31c718420f27",
   "metadata": {},
   "outputs": [],
   "source": [
    "import pandas as pd"
   ]
  },
  {
   "cell_type": "markdown",
   "id": "1dc336b0-2263-450b-be56-88098b1a86a4",
   "metadata": {},
   "source": [
    "## Read data"
   ]
  },
  {
   "cell_type": "code",
   "execution_count": null,
   "id": "54bae50a-f49f-4b98-883c-39e3c29d1ff9",
   "metadata": {},
   "outputs": [],
   "source": [
    "lit_df = pd.read_csv(lit_data_file, parse_dates=[\"import_time\", \"obs_timestamp\"])\n",
    "buoy_df = pd.read_csv(buoy_data_file, parse_dates=[\"date_UTC\", ])"
   ]
  },
  {
   "cell_type": "markdown",
   "id": "b2b44800-e5bf-49b6-a140-94e2ea388e04",
   "metadata": {},
   "source": [
    "## Standardize\n",
    "\n",
    "- Platform\n",
    "- Type (vessel, buoy, ...)\n",
    "- Timestamp\n",
    "- Longitude, Latitude\n",
    "- Longitude_, Latitude_ (for possible redacted display)"
   ]
  },
  {
   "cell_type": "code",
   "execution_count": null,
   "id": "67a10dd0-6624-4378-8b01-52a01837260c",
   "metadata": {},
   "outputs": [],
   "source": [
    "lit_df_std = lit_df[[\n",
    "    \"obs_timestamp\",\n",
    "    \"Longitude\", \"Latitude\",\n",
    "    \"Longitude_\", \"Latitude_\",\n",
    "]]\n",
    "lit_df_std = lit_df_std.rename(columns={\n",
    "    \"obs_timestamp\": \"Timestamp\",\n",
    "})\n",
    "lit_df_std[\"Platform\"] = \"Littorina\"\n",
    "lit_df_std[\"Type\"] = \"Vessel\"\n",
    "lit_df_std[\"Timestamp\"] = pd.to_datetime(lit_df_std[\"Timestamp\"])"
   ]
  },
  {
   "cell_type": "code",
   "execution_count": null,
   "id": "d6009a48-4bd1-442d-898e-4ff3f3b8af6c",
   "metadata": {},
   "outputs": [],
   "source": [
    "buoy_df_std = buoy_df[[\n",
    "    \"D_number\",\n",
    "    \"date_UTC\",\n",
    "    \"Longitude\", \"Latitude\",\n",
    "]]\n",
    "buoy_df_std = buoy_df_std.rename(columns={\n",
    "    \"D_number\": \"Platform\",\n",
    "    \"date_UTC\": \"Timestamp\",\n",
    "})\n",
    "buoy_df_std[\"Type\"] = \"Buoy\"\n",
    "buoy_df_std[\"Platform\"] = \"D\" + buoy_df_std[\"Platform\"].astype(int).astype(str)\n",
    "buoy_df_std[\"Longitude_\"] = buoy_df_std[\"Longitude\"]\n",
    "buoy_df_std[\"Latitude_\"] = buoy_df_std[\"Latitude\"]\n",
    "buoy_df_std[\"Timestamp\"] = pd.to_datetime(buoy_df_std[\"Timestamp\"]).dt.tz_localize(\"UTC\")"
   ]
  },
  {
   "cell_type": "code",
   "execution_count": null,
   "id": "23dc0f81-f312-488a-ad31-c019791e9bba",
   "metadata": {},
   "outputs": [],
   "source": [
    "combined_df = pd.concat((lit_df_std, buoy_df_std), ignore_index=True)"
   ]
  },
  {
   "cell_type": "code",
   "execution_count": null,
   "id": "fbdc6ca9-d30a-477d-8379-20be58cb57e1",
   "metadata": {},
   "outputs": [],
   "source": [
    "combine_df.to_csv(combined_data_file, index=False)\n",
    "!head -n5 {combined_data_file}"
   ]
  }
 ],
 "metadata": {
  "kernelspec": {
   "display_name": "Python 3 (ipykernel)",
   "language": "python",
   "name": "python3"
  },
  "language_info": {
   "codemirror_mode": {
    "name": "ipython",
    "version": 3
   },
   "file_extension": ".py",
   "mimetype": "text/x-python",
   "name": "python",
   "nbconvert_exporter": "python",
   "pygments_lexer": "ipython3",
   "version": "3.10.8"
  }
 },
 "nbformat": 4,
 "nbformat_minor": 5
}
