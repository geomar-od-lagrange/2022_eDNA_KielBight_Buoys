{
 "cells": [
  {
   "cell_type": "code",
   "execution_count": 1,
   "id": "f2557508-805e-4529-bb99-a64f75aaaeed",
   "metadata": {},
   "outputs": [],
   "source": [
    "heincke_url = \"'https://dashboard.awi.de/data-xxl/rest/data?sensors=vessel%3Aheincke%3Aphins%3Alongitude&sensors=vessel%3Aheincke%3Aphins%3Alatitude&limit=72&aggregate=MINUTE&aggregateFunctions=MEAN&streamit=true&withQualityFlags=false&withLogicalCode=false'\"\n",
    "heincke_tab_file = \"heincke.tsv\"\n",
    "heincke_csv = \"heincke.csv\""
   ]
  },
  {
   "cell_type": "code",
   "execution_count": 2,
   "id": "d8edf0c1-fb60-41ff-994a-ea245dd908b7",
   "metadata": {},
   "outputs": [
    {
     "name": "stdout",
     "output_type": "stream",
     "text": [
      "  % Total    % Received % Xferd  Average Speed   Time    Time     Time  Current\n",
      "                                 Dload  Upload   Total   Spent    Left  Speed\n",
      "100  3171    0  3171    0     0   3307      0 --:--:-- --:--:-- --:--:--  3306\n"
     ]
    }
   ],
   "source": [
    "!curl -o {heincke_tab_file} {heincke_url}"
   ]
  },
  {
   "cell_type": "code",
   "execution_count": 3,
   "id": "85bd1ec3-1c13-4685-b9a8-aa3dbe4d4004",
   "metadata": {},
   "outputs": [],
   "source": [
    "import pandas as pd"
   ]
  },
  {
   "cell_type": "code",
   "execution_count": 4,
   "id": "a6e99dc0-fdb6-4568-be7c-51e18402033b",
   "metadata": {},
   "outputs": [
    {
     "data": {
      "text/html": [
       "<div>\n",
       "<style scoped>\n",
       "    .dataframe tbody tr th:only-of-type {\n",
       "        vertical-align: middle;\n",
       "    }\n",
       "\n",
       "    .dataframe tbody tr th {\n",
       "        vertical-align: top;\n",
       "    }\n",
       "\n",
       "    .dataframe thead th {\n",
       "        text-align: right;\n",
       "    }\n",
       "</style>\n",
       "<table border=\"1\" class=\"dataframe\">\n",
       "  <thead>\n",
       "    <tr style=\"text-align: right;\">\n",
       "      <th></th>\n",
       "      <th>Timestamp</th>\n",
       "      <th>Longitude</th>\n",
       "      <th>Latitude</th>\n",
       "      <th>Platform</th>\n",
       "      <th>Type</th>\n",
       "    </tr>\n",
       "  </thead>\n",
       "  <tbody>\n",
       "    <tr>\n",
       "      <th>0</th>\n",
       "      <td>2023-05-03 03:48:00</td>\n",
       "      <td>11.54266</td>\n",
       "      <td>54.19909</td>\n",
       "      <td>Heincke</td>\n",
       "      <td>Vessel</td>\n",
       "    </tr>\n",
       "    <tr>\n",
       "      <th>1</th>\n",
       "      <td>2023-05-03 03:58:00</td>\n",
       "      <td>11.54241</td>\n",
       "      <td>54.19913</td>\n",
       "      <td>Heincke</td>\n",
       "      <td>Vessel</td>\n",
       "    </tr>\n",
       "    <tr>\n",
       "      <th>2</th>\n",
       "      <td>2023-05-03 04:08:00</td>\n",
       "      <td>11.54172</td>\n",
       "      <td>54.19908</td>\n",
       "      <td>Heincke</td>\n",
       "      <td>Vessel</td>\n",
       "    </tr>\n",
       "    <tr>\n",
       "      <th>3</th>\n",
       "      <td>2023-05-03 04:18:00</td>\n",
       "      <td>11.54181</td>\n",
       "      <td>54.19921</td>\n",
       "      <td>Heincke</td>\n",
       "      <td>Vessel</td>\n",
       "    </tr>\n",
       "    <tr>\n",
       "      <th>4</th>\n",
       "      <td>2023-05-03 04:28:00</td>\n",
       "      <td>11.54257</td>\n",
       "      <td>54.19946</td>\n",
       "      <td>Heincke</td>\n",
       "      <td>Vessel</td>\n",
       "    </tr>\n",
       "    <tr>\n",
       "      <th>...</th>\n",
       "      <td>...</td>\n",
       "      <td>...</td>\n",
       "      <td>...</td>\n",
       "      <td>...</td>\n",
       "      <td>...</td>\n",
       "    </tr>\n",
       "    <tr>\n",
       "      <th>67</th>\n",
       "      <td>2023-05-03 15:38:00</td>\n",
       "      <td>11.82490</td>\n",
       "      <td>54.36694</td>\n",
       "      <td>Heincke</td>\n",
       "      <td>Vessel</td>\n",
       "    </tr>\n",
       "    <tr>\n",
       "      <th>68</th>\n",
       "      <td>2023-05-03 15:48:00</td>\n",
       "      <td>11.82363</td>\n",
       "      <td>54.38489</td>\n",
       "      <td>Heincke</td>\n",
       "      <td>Vessel</td>\n",
       "    </tr>\n",
       "    <tr>\n",
       "      <th>69</th>\n",
       "      <td>2023-05-03 15:58:00</td>\n",
       "      <td>11.82515</td>\n",
       "      <td>54.39625</td>\n",
       "      <td>Heincke</td>\n",
       "      <td>Vessel</td>\n",
       "    </tr>\n",
       "    <tr>\n",
       "      <th>70</th>\n",
       "      <td>2023-05-03 16:08:00</td>\n",
       "      <td>11.82505</td>\n",
       "      <td>54.39500</td>\n",
       "      <td>Heincke</td>\n",
       "      <td>Vessel</td>\n",
       "    </tr>\n",
       "    <tr>\n",
       "      <th>71</th>\n",
       "      <td>2023-05-03 16:18:00</td>\n",
       "      <td>11.81291</td>\n",
       "      <td>54.39071</td>\n",
       "      <td>Heincke</td>\n",
       "      <td>Vessel</td>\n",
       "    </tr>\n",
       "  </tbody>\n",
       "</table>\n",
       "<p>72 rows × 5 columns</p>\n",
       "</div>"
      ],
      "text/plain": [
       "             Timestamp  Longitude  Latitude Platform    Type\n",
       "0  2023-05-03 03:48:00   11.54266  54.19909  Heincke  Vessel\n",
       "1  2023-05-03 03:58:00   11.54241  54.19913  Heincke  Vessel\n",
       "2  2023-05-03 04:08:00   11.54172  54.19908  Heincke  Vessel\n",
       "3  2023-05-03 04:18:00   11.54181  54.19921  Heincke  Vessel\n",
       "4  2023-05-03 04:28:00   11.54257  54.19946  Heincke  Vessel\n",
       "..                 ...        ...       ...      ...     ...\n",
       "67 2023-05-03 15:38:00   11.82490  54.36694  Heincke  Vessel\n",
       "68 2023-05-03 15:48:00   11.82363  54.38489  Heincke  Vessel\n",
       "69 2023-05-03 15:58:00   11.82515  54.39625  Heincke  Vessel\n",
       "70 2023-05-03 16:08:00   11.82505  54.39500  Heincke  Vessel\n",
       "71 2023-05-03 16:18:00   11.81291  54.39071  Heincke  Vessel\n",
       "\n",
       "[72 rows x 5 columns]"
      ]
     },
     "execution_count": 4,
     "metadata": {},
     "output_type": "execute_result"
    }
   ],
   "source": [
    "df = pd.read_table(heincke_tab_file, parse_dates=[\"datetime\", ])\n",
    "df = df.rename(\n",
    "    columns={\n",
    "        \"datetime\": \"Timestamp\",\n",
    "        \"vessel:heincke:phins:longitude (mean) []\": \"Longitude\",\n",
    "        \"vessel:heincke:phins:latitude (mean) []\": \"Latitude\",\n",
    "    }\n",
    ")\n",
    "df[\"Platform\"] = \"Heincke\"\n",
    "df[\"Type\"] = \"Vessel\"\n",
    "df"
   ]
  },
  {
   "cell_type": "code",
   "execution_count": 5,
   "id": "1b63c4c5-3bfb-4438-aa41-ac82af0ecb02",
   "metadata": {},
   "outputs": [
    {
     "name": "stdout",
     "output_type": "stream",
     "text": [
      "Timestamp,Longitude,Latitude,Platform,Type\n",
      "2023-05-03 03:48:00,11.54266,54.19909,Heincke,Vessel\n",
      "2023-05-03 03:58:00,11.54241,54.19913,Heincke,Vessel\n",
      "2023-05-03 04:08:00,11.54172,54.19908,Heincke,Vessel\n",
      "2023-05-03 04:18:00,11.54181,54.19921,Heincke,Vessel\n",
      "2023-05-03 04:28:00,11.54257,54.19946,Heincke,Vessel\n",
      "2023-05-03 04:38:00,11.54251,54.19957,Heincke,Vessel\n",
      "2023-05-03 04:48:00,11.54216,54.19888,Heincke,Vessel\n",
      "2023-05-03 04:58:00,11.5425,54.1991,Heincke,Vessel\n",
      "2023-05-03 05:08:00,11.54213,54.19938,Heincke,Vessel\n"
     ]
    }
   ],
   "source": [
    "df.to_csv(heincke_csv, index=False)\n",
    "!head {heincke_csv}"
   ]
  }
 ],
 "metadata": {
  "kernelspec": {
   "display_name": "Python 3 (ipykernel)",
   "language": "python",
   "name": "python3"
  },
  "language_info": {
   "codemirror_mode": {
    "name": "ipython",
    "version": 3
   },
   "file_extension": ".py",
   "mimetype": "text/x-python",
   "name": "python",
   "nbconvert_exporter": "python",
   "pygments_lexer": "ipython3",
   "version": "3.10.8"
  }
 },
 "nbformat": 4,
 "nbformat_minor": 5
}
