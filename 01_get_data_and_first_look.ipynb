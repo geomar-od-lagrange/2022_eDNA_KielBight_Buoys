{
 "cells": [
  {
   "cell_type": "code",
   "execution_count": null,
   "id": "2655217d-c603-4708-9229-914c7fe58dfd",
   "metadata": {},
   "outputs": [],
   "source": [
    "# parameters\n",
    "data_url = \"ftp.hereon.de/outgoing/carrasco/Drifters/KIEL/csv/\""
   ]
  },
  {
   "cell_type": "code",
   "execution_count": null,
   "id": "c5cde260-b8b4-44f5-aba9-4aee410aa67c",
   "metadata": {},
   "outputs": [],
   "source": [
    "!wget -m ftp://{data_url}"
   ]
  },
  {
   "cell_type": "code",
   "execution_count": null,
   "id": "1fad6bad-26e1-47c8-9d68-66462facb9a3",
   "metadata": {},
   "outputs": [],
   "source": [
    "from pathlib import Path"
   ]
  },
  {
   "cell_type": "code",
   "execution_count": null,
   "id": "c8e69d4b-c78f-4735-81c2-38194cb4b255",
   "metadata": {},
   "outputs": [],
   "source": [
    "data_path = Path(data_url)"
   ]
  },
  {
   "cell_type": "code",
   "execution_count": null,
   "id": "1ceebebf-a555-4c1a-bbf3-f14bae967f0c",
   "metadata": {},
   "outputs": [],
   "source": [
    "import pandas as pd\n",
    "import hvplot.pandas"
   ]
  },
  {
   "cell_type": "code",
   "execution_count": null,
   "id": "bc2081b9-1da4-469a-97dc-72eed6fe33ed",
   "metadata": {},
   "outputs": [],
   "source": [
    "def read_buoy_data(data_path):\n",
    "    df = pd.concat(\n",
    "        (\n",
    "            pd.read_csv(f) for f in sorted(Path(data_path).glob(\"*.csv\"))\n",
    "        ),\n",
    "        ignore_index=True,\n",
    "    )\n",
    "    df = df.set_index([\"D_number\", \"date_UTC\"])\n",
    "    df = df.sort_index()\n",
    "    df = df.drop_duplicates()\n",
    "    return df"
   ]
  },
  {
   "cell_type": "code",
   "execution_count": null,
   "id": "09e97d8a-957c-4c41-9a39-aa1c0c4a9350",
   "metadata": {},
   "outputs": [],
   "source": [
    "read_buoy_data(data_path).reset_index().hvplot.points(\n",
    "    x=\"Longitude\", y=\"Latitude\", color=\"magenta\", geo=True, tiles=\"OSM\",\n",
    ")"
   ]
  }
 ],
 "metadata": {
  "kernelspec": {
   "display_name": "Python 3 (ipykernel)",
   "language": "python",
   "name": "python3"
  },
  "language_info": {
   "codemirror_mode": {
    "name": "ipython",
    "version": 3
   },
   "file_extension": ".py",
   "mimetype": "text/x-python",
   "name": "python",
   "nbconvert_exporter": "python",
   "pygments_lexer": "ipython3",
   "version": "3.10.8"
  }
 },
 "nbformat": 4,
 "nbformat_minor": 5
}
