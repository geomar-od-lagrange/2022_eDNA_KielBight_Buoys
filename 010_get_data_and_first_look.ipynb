{
 "cells": [
  {
   "cell_type": "markdown",
   "id": "af45e7e3-5ee0-45b8-97bf-4b5954e94231",
   "metadata": {},
   "source": [
    "# Get Buoy and Vessel data"
   ]
  },
  {
   "cell_type": "code",
   "execution_count": null,
   "id": "ae2229c0-d409-4552-aa06-5fcb882d47b4",
   "metadata": {
    "tags": [
     "parameters"
    ]
   },
   "outputs": [],
   "source": [
    "# parameters\n",
    "\n",
    "lit_data_url = \"https://osis.geomar.de/underway/3ka2chb/api/v1/positions/Littorina2023?include_payloads=false&earliest_timestamp=2023-04-24\"\n",
    "lit_data_file = \"lit_positions.csv\"\n",
    "\n",
    "buoy_url = \"ftp.hereon.de\"\n",
    "buoy_path = \"outgoing/carrasco/Drifters/KIEL/csv\"\n",
    "buoy_data_file = \"buoy_positions.csv\"\n",
    "\n",
    "buoy_num_files = None"
   ]
  },
  {
   "cell_type": "markdown",
   "id": "f2f38d79-37aa-422f-835d-c136fb8603cd",
   "metadata": {},
   "source": [
    "## Buoy positions"
   ]
  },
  {
   "cell_type": "code",
   "execution_count": null,
   "id": "7a87b3bc-3713-4a65-b6f3-68a5ed46402f",
   "metadata": {},
   "outputs": [],
   "source": [
    "from ftplib import FTP\n",
    "from functools import partial\n",
    "\n",
    "import pandas as pd\n",
    "import hvplot.pandas\n",
    "\n",
    "from dask import bag as db\n",
    "from dask.distributed import Client"
   ]
  },
  {
   "cell_type": "code",
   "execution_count": null,
   "id": "1bc1772f-a485-460f-8236-16faba7f2117",
   "metadata": {},
   "outputs": [],
   "source": [
    "client = Client(n_workers=8, threads_per_worker=1, memory_limit=400e6)\n",
    "client"
   ]
  },
  {
   "cell_type": "code",
   "execution_count": null,
   "id": "f3bd475b-c23e-4a2e-bc7c-968f2f57a903",
   "metadata": {},
   "outputs": [],
   "source": [
    "def get_all_buoy_csv_file_names(url=None, path=None):\n",
    "    ftp = FTP(url)\n",
    "    ftp.login()\n",
    "    return list(\n",
    "        filter(\n",
    "            lambda s: s.endswith(\".csv\"),\n",
    "            map(\n",
    "                lambda tp: f\"ftp://{url}/{path}/{tp[0]}\",\n",
    "                ftp.mlsd(path=path)\n",
    "            )\n",
    "        )\n",
    "    )\n",
    "\n",
    "def load_all_buoy_csv_files(url=None, path=None, nfiles=None):\n",
    "    urls = get_all_buoy_csv_file_names(url=url, path=path)\n",
    "    if nfiles is not None:\n",
    "        urls = urls[-nfiles:]\n",
    "    urls = db.from_sequence(urls, npartitions=min(len(urls), 100))\n",
    "    _dfs = urls.map(pd.read_csv)\n",
    "    _dfs = _dfs.compute()\n",
    "    df = pd.concat(_dfs, ignore_index=True)\n",
    "    df[\"date_UTC\"] = pd.to_datetime(df[\"date_UTC\"])\n",
    "    df[\"D_number\"] = df[\"D_number\"].astype(int).astype(str)\n",
    "    df = df.set_index([\"D_number\", \"date_UTC\"])\n",
    "    df = df.sort_index()\n",
    "    df = df.drop_duplicates()\n",
    "    df = df.reset_index()\n",
    "    return df"
   ]
  },
  {
   "cell_type": "code",
   "execution_count": null,
   "id": "e3e1abf5-e8d3-4f26-8aca-2c9c3dc6a41e",
   "metadata": {},
   "outputs": [],
   "source": [
    "%%time\n",
    "\n",
    "df_buoys = load_all_buoy_csv_files(\n",
    "    url=buoy_url,\n",
    "    path=buoy_path,\n",
    "    nfiles=buoy_num_files,\n",
    ")\n",
    "\n",
    "df_buoys"
   ]
  },
  {
   "cell_type": "code",
   "execution_count": null,
   "id": "33507b31-8692-4cbb-9d96-b81d31028e13",
   "metadata": {},
   "outputs": [],
   "source": [
    "df_buoys.to_csv(buoy_data_file, index=False)\n",
    "!head -n5 {buoy_data_file}"
   ]
  },
  {
   "cell_type": "code",
   "execution_count": null,
   "id": "0d817fdc-6432-4214-9a0f-978839e06757",
   "metadata": {},
   "outputs": [],
   "source": [
    "df_buoys.date_UTC.max()"
   ]
  },
  {
   "cell_type": "markdown",
   "id": "089ae418-72b4-41cc-bb91-e1f255e9be75",
   "metadata": {},
   "source": [
    "## Vessel positions"
   ]
  },
  {
   "cell_type": "code",
   "execution_count": null,
   "id": "a6ff636d-a74b-4a97-bf0e-9f83c92bf72a",
   "metadata": {},
   "outputs": [],
   "source": [
    "import geopandas"
   ]
  },
  {
   "cell_type": "code",
   "execution_count": null,
   "id": "97590937-4816-4a4e-8c48-7899d6efcd9b",
   "metadata": {},
   "outputs": [],
   "source": [
    "def read_littorina_positions(url=None):\n",
    "    df = geopandas.read_file(\n",
    "        url\n",
    "    )\n",
    "    \n",
    "    df[\"Longitude\"] = df.geometry.apply(lambda p: p.x)\n",
    "    df[\"Latitude\"] = df.geometry.apply(lambda p: p.y)\n",
    "    df = df.drop(columns=[\"geometry\", ])\n",
    "    \n",
    "    # readacted positions\n",
    "    redact_here = df.datastream.str.contains(\"MarineTraffic\")\n",
    "    df[\"Longitude_\"] = (\n",
    "        redact_here * df[\"Longitude\"].round(1)\n",
    "        + ~redact_here * df[\"Longitude\"]\n",
    "    )\n",
    "    df[\"Latitude_\"] = (\n",
    "        redact_here * df[\"Latitude\"].round(1)\n",
    "        + ~redact_here * df[\"Longitude\"]\n",
    "    )\n",
    "    \n",
    "    return df"
   ]
  },
  {
   "cell_type": "code",
   "execution_count": null,
   "id": "61b1d742-338e-4b30-aa4c-5e20930e3b90",
   "metadata": {},
   "outputs": [],
   "source": [
    "df_lit = read_littorina_positions(url=lit_data_url)"
   ]
  },
  {
   "cell_type": "code",
   "execution_count": null,
   "id": "394d8950-1688-439a-a59f-e79a76302257",
   "metadata": {},
   "outputs": [],
   "source": [
    "df_lit.to_csv(lit_data_file, index=False)\n",
    "!head -n5 {lit_data_file}"
   ]
  }
 ],
 "metadata": {
  "kernelspec": {
   "display_name": "Python 3 (ipykernel)",
   "language": "python",
   "name": "python3"
  },
  "language_info": {
   "codemirror_mode": {
    "name": "ipython",
    "version": 3
   },
   "file_extension": ".py",
   "mimetype": "text/x-python",
   "name": "python",
   "nbconvert_exporter": "python",
   "pygments_lexer": "ipython3",
   "version": "3.10.8"
  }
 },
 "nbformat": 4,
 "nbformat_minor": 5
}
