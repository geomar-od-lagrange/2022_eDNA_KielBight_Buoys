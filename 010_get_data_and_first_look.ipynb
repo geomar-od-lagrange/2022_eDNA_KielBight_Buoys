{
 "cells": [
  {
   "cell_type": "markdown",
   "id": "af45e7e3-5ee0-45b8-97bf-4b5954e94231",
   "metadata": {},
   "source": [
    "# Get Buoy and Vessel data"
   ]
  },
  {
   "cell_type": "code",
   "execution_count": null,
   "id": "ae2229c0-d409-4552-aa06-5fcb882d47b4",
   "metadata": {
    "tags": [
     "parameters"
    ]
   },
   "outputs": [],
   "source": [
    "# parameters\n",
    "\n",
    "lit_data_url = \"https://osis.geomar.de/underway/3ka2chb/api/v1/positions/Littorina2023?include_payloads=false&earliest_timestamp=2023-04-24\"\n",
    "lit_data_file = \"lit_positions.csv\"\n",
    "\n",
    "buoy_zip_url = \"https://cloud.geomar.de/s/tNRg9raGEK357e4/download\"\n",
    "buoy_zip_file = \"buoy_positions.zip\"\n",
    "buoy_data_path = \"data/\"\n",
    "buoy_data_path_full = \"data/2023-05-03_Drifter_Filedrop/\"\n",
    "buoy_data_file = \"buoy_positions.csv\""
   ]
  },
  {
   "cell_type": "code",
   "execution_count": null,
   "id": "2b82f873-c78d-4ccc-a35c-9712959cfdb1",
   "metadata": {},
   "outputs": [],
   "source": [
    "!curl -o {buoy_zip_file} {buoy_zip_url}"
   ]
  },
  {
   "cell_type": "code",
   "execution_count": null,
   "id": "b6347b26-8449-4c42-b82e-5974f4b51707",
   "metadata": {
    "tags": []
   },
   "outputs": [],
   "source": [
    "!unzip -q {buoy_zio_file} -d {buoy_data_path}"
   ]
  },
  {
   "cell_type": "markdown",
   "id": "f2f38d79-37aa-422f-835d-c136fb8603cd",
   "metadata": {},
   "source": [
    "## Buoy positions"
   ]
  },
  {
   "cell_type": "code",
   "execution_count": null,
   "id": "7a87b3bc-3713-4a65-b6f3-68a5ed46402f",
   "metadata": {},
   "outputs": [],
   "source": [
    "import pandas as pd\n",
    "import hvplot.pandas\n",
    "\n",
    "from pathlib import Path"
   ]
  },
  {
   "cell_type": "code",
   "execution_count": null,
   "id": "f3bd475b-c23e-4a2e-bc7c-968f2f57a903",
   "metadata": {},
   "outputs": [],
   "source": [
    "def _try_reading_csv(file):\n",
    "    try:\n",
    "        return pd.read_csv(file)\n",
    "    except pd.errors.EmptyDataError:\n",
    "        return None\n",
    "\n",
    "\n",
    "def load_all_buoy_csv_files(path=None):\n",
    "    files = sorted(Path(path).glob(\"*.csv\"))\n",
    "    _dfs = [_try_reading_csv(f) for f in files]\n",
    "    _dfs = [_df for _df in _dfs if _df is not None]\n",
    "    df = pd.concat(_dfs, ignore_index=True)\n",
    "    df[\"date_UTC\"] = pd.to_datetime(df[\"date_UTC\"])\n",
    "    df[\"D_number\"] = df[\"D_number\"].astype(int).astype(str)\n",
    "    df = df.set_index([\"D_number\", \"date_UTC\"])\n",
    "    df = df.sort_index()\n",
    "    df = df.drop_duplicates()\n",
    "    df = df.reset_index()\n",
    "    return df"
   ]
  },
  {
   "cell_type": "code",
   "execution_count": null,
   "id": "e3e1abf5-e8d3-4f26-8aca-2c9c3dc6a41e",
   "metadata": {},
   "outputs": [],
   "source": [
    "%%time\n",
    "\n",
    "df_buoys = load_all_buoy_csv_files(\n",
    "    path=buoy_data_path_full,\n",
    ")\n",
    "\n",
    "df_buoys"
   ]
  },
  {
   "cell_type": "code",
   "execution_count": null,
   "id": "33507b31-8692-4cbb-9d96-b81d31028e13",
   "metadata": {},
   "outputs": [],
   "source": [
    "df_buoys.to_csv(buoy_data_file, index=False)\n",
    "!head -n5 {buoy_data_file}"
   ]
  },
  {
   "cell_type": "code",
   "execution_count": null,
   "id": "0d817fdc-6432-4214-9a0f-978839e06757",
   "metadata": {},
   "outputs": [],
   "source": [
    "df_buoys.date_UTC.max()"
   ]
  },
  {
   "cell_type": "markdown",
   "id": "089ae418-72b4-41cc-bb91-e1f255e9be75",
   "metadata": {},
   "source": [
    "## Vessel positions"
   ]
  },
  {
   "cell_type": "code",
   "execution_count": null,
   "id": "a6ff636d-a74b-4a97-bf0e-9f83c92bf72a",
   "metadata": {},
   "outputs": [],
   "source": [
    "import geopandas"
   ]
  },
  {
   "cell_type": "code",
   "execution_count": null,
   "id": "97590937-4816-4a4e-8c48-7899d6efcd9b",
   "metadata": {},
   "outputs": [],
   "source": [
    "def read_littorina_positions(url=None):\n",
    "    df = geopandas.read_file(\n",
    "        url\n",
    "    )\n",
    "    \n",
    "    df[\"Longitude\"] = df.geometry.apply(lambda p: p.x)\n",
    "    df[\"Latitude\"] = df.geometry.apply(lambda p: p.y)\n",
    "    df = df.drop(columns=[\"geometry\", ])\n",
    "    \n",
    "    # readacted positions\n",
    "    redact_here = df.datastream.str.contains(\"MarineTraffic\")\n",
    "    df[\"Longitude_\"] = (\n",
    "        redact_here * df[\"Longitude\"].round(1)\n",
    "        + ~redact_here * df[\"Longitude\"]\n",
    "    )\n",
    "    df[\"Latitude_\"] = (\n",
    "        redact_here * df[\"Latitude\"].round(1)\n",
    "        + ~redact_here * df[\"Latitude\"]\n",
    "    )\n",
    "    \n",
    "    return df"
   ]
  },
  {
   "cell_type": "code",
   "execution_count": null,
   "id": "61b1d742-338e-4b30-aa4c-5e20930e3b90",
   "metadata": {},
   "outputs": [],
   "source": [
    "df_lit = read_littorina_positions(url=lit_data_url)"
   ]
  },
  {
   "cell_type": "code",
   "execution_count": null,
   "id": "394d8950-1688-439a-a59f-e79a76302257",
   "metadata": {},
   "outputs": [],
   "source": [
    "df_lit.to_csv(lit_data_file, index=False)\n",
    "!head -n5 {lit_data_file}"
   ]
  }
 ],
 "metadata": {
  "kernelspec": {
   "display_name": "Python 3 (ipykernel)",
   "language": "python",
   "name": "python3"
  },
  "language_info": {
   "codemirror_mode": {
    "name": "ipython",
    "version": 3
   },
   "file_extension": ".py",
   "mimetype": "text/x-python",
   "name": "python",
   "nbconvert_exporter": "python",
   "pygments_lexer": "ipython3",
   "version": "3.10.8"
  }
 },
 "nbformat": 4,
 "nbformat_minor": 5
}
