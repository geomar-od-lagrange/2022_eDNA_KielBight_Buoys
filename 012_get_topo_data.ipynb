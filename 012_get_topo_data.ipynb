{
 "cells": [
  {
   "cell_type": "code",
   "execution_count": null,
   "id": "9641a6e7-5618-45d6-84d1-b6a097875543",
   "metadata": {},
   "outputs": [],
   "source": [
    "import xarray as xr\n",
    "import pandas as pd\n",
    "import hvplot.pandas\n",
    "import hvplot.xarray"
   ]
  },
  {
   "cell_type": "code",
   "execution_count": null,
   "id": "bc8ed32c-7ee6-4b60-b737-8041365d223c",
   "metadata": {},
   "outputs": [],
   "source": [
    "combined_data_file = \"combined_positions.csv\"\n",
    "combined_data_file_depth = \"combined_positions_depth.csv\""
   ]
  },
  {
   "cell_type": "raw",
   "id": "5905abd6-59d9-43aa-8178-bc6e70aa0a1f",
   "metadata": {},
   "source": [
    "etopo1_full = xr.open_dataset(\"data/ETOPO1_Bed_g_gmt4.nc\")\n",
    "etopo1_full"
   ]
  },
  {
   "cell_type": "raw",
   "id": "b5cc58cd-f111-471c-bb8b-988ebc235361",
   "metadata": {},
   "source": [
    "etopo1_baltic = etopo1_full.sel(\n",
    "    x=slice(9, 30),\n",
    "    y=slice(53, 67),\n",
    ")\n",
    "etopo1_baltic"
   ]
  },
  {
   "cell_type": "raw",
   "id": "056ef7a0-653b-458c-9140-901677a49787",
   "metadata": {},
   "source": [
    "etopo1_baltic.to_netcdf(\"data/ETOPO1_Bed_g_gmt4_baltic.nc\")"
   ]
  },
  {
   "cell_type": "code",
   "execution_count": null,
   "id": "bbe175e6-45cc-4366-9048-db2391c43820",
   "metadata": {},
   "outputs": [],
   "source": [
    "etopo1_baltic = xr.open_dataset(\"data/ETOPO1_Bed_g_gmt4_baltic.nc\")"
   ]
  },
  {
   "cell_type": "code",
   "execution_count": null,
   "id": "7813a67c-00b9-407e-b4e4-22714a3b9533",
   "metadata": {},
   "outputs": [],
   "source": [
    "df = pd.read_csv(combined_data_file)\n",
    "df"
   ]
  },
  {
   "cell_type": "code",
   "execution_count": null,
   "id": "ba571526-96f3-4282-86b6-f4e3024a77ff",
   "metadata": {},
   "outputs": [],
   "source": [
    "df[\"depth\"] = - etopo1_baltic.z.sel(\n",
    "    x=df[[\"Longitude\"]].to_xarray()[\"Longitude\"],\n",
    "    y=df[[\"Latitude\"]].to_xarray()[\"Latitude\"],\n",
    "    method=\"nearest\",\n",
    ").to_dataframe()[\"z\"]\n",
    "\n",
    "df"
   ]
  },
  {
   "cell_type": "code",
   "execution_count": null,
   "id": "70ba7ffd-584d-4f04-8dba-c1d5fe986ac0",
   "metadata": {},
   "outputs": [],
   "source": [
    "df.to_csv(combined_data_file_depth, index=False)\n",
    "!head -n5 {combined_data_file_depth}"
   ]
  }
 ],
 "metadata": {
  "kernelspec": {
   "display_name": "Python 3 (ipykernel)",
   "language": "python",
   "name": "python3"
  },
  "language_info": {
   "codemirror_mode": {
    "name": "ipython",
    "version": 3
   },
   "file_extension": ".py",
   "mimetype": "text/x-python",
   "name": "python",
   "nbconvert_exporter": "python",
   "pygments_lexer": "ipython3",
   "version": "3.10.8"
  }
 },
 "nbformat": 4,
 "nbformat_minor": 5
}
